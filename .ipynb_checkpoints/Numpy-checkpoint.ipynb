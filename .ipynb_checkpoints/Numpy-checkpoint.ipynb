{
 "cells": [
  {
   "cell_type": "markdown",
   "metadata": {},
   "source": [
    "### Learning Numpy"
   ]
  },
  {
   "cell_type": "code",
   "execution_count": 189,
   "metadata": {},
   "outputs": [],
   "source": [
    "#Loading numpy package\n",
    "from numpy  import *"
   ]
  },
  {
   "cell_type": "markdown",
   "metadata": {},
   "source": [
    "#### Creating a 3 x 5 array"
   ]
  },
  {
   "cell_type": "code",
   "execution_count": 190,
   "metadata": {},
   "outputs": [
    {
     "data": {
      "text/plain": [
       "array([[ 0,  1,  2,  3,  4],\n",
       "       [ 5,  6,  7,  8,  9],\n",
       "       [10, 11, 12, 13, 14]])"
      ]
     },
     "execution_count": 190,
     "metadata": {},
     "output_type": "execute_result"
    }
   ],
   "source": [
    "a = arange(15).reshape(3, 5)  #using arange(), NOT arrange()\n",
    "a"
   ]
  },
  {
   "cell_type": "markdown",
   "metadata": {},
   "source": [
    "#### Checking array properties"
   ]
  },
  {
   "cell_type": "code",
   "execution_count": 191,
   "metadata": {},
   "outputs": [
    {
     "name": "stdout",
     "output_type": "stream",
     "text": [
      "the dimensions of the array are (row, columns): (3L, 5L)\n",
      "the number of dimensions of the array are: 2\n",
      "the type of elements in the array are: int32\n",
      "the total number of elements in the array are: 15\n",
      "the type of object 'a' is: <type 'numpy.ndarray'>\n"
     ]
    }
   ],
   "source": [
    "print(\"the dimensions of the array are (row, columns): \" + str(a.shape))\n",
    "\n",
    "print(\"the number of dimensions of the array are: \" + str(a.ndim))\n",
    "\n",
    "print(\"the type of elements in the array are: \" + str(a.dtype))\n",
    "\n",
    "print(\"the total number of elements in the array are: \" + str(a.size))\n",
    "\n",
    "print(\"the type of object \\'a\\' is: \" + str(type(a)))"
   ]
  },
  {
   "cell_type": "markdown",
   "metadata": {},
   "source": [
    "#### Ways to create an array"
   ]
  },
  {
   "cell_type": "code",
   "execution_count": 192,
   "metadata": {},
   "outputs": [
    {
     "name": "stdout",
     "output_type": "stream",
     "text": [
      "array 'a' = [2 3 4]        array 'b' = [ 1.2  3.5  4.6]\n",
      "\n",
      "NOTICE DIFFERENCE BETWEEN TYPES BECAUSE OF ELEMENTS \n",
      "\n",
      "the type of the array 'a', based on type of array elements is: int32\n",
      "the type of the array 'b', based on type of array elements is:float64\n",
      "\n",
      "array 'c' = [[1, 2, 3, 4] [1.5, 6.2, 3]] is a 2-D array because it contains two sequences\n",
      "\n",
      "array 'd' = [[ 1.0+0.j  2.0+0.j]\n",
      " [ 3.5+0.j  4.2+0.j]]\n",
      "is a complex 2-D array. the type was defined in the creation code: (d = array([], dtype = complex))\n",
      "\n",
      "array 'e' = [10 11 12 13 14] created using 'arange'\n"
     ]
    }
   ],
   "source": [
    "# Correct way to initialize an array. Should contain the elements in []\n",
    "\n",
    "a = array([1, 2, 3, 4])\n",
    "\n",
    "# From a regular python list/tuple using array function\n",
    "# Type of the resulting array is deduced from type of elements in the sequence\n",
    "\n",
    "a = array([2, 3, 4])\n",
    "b = array([1.2, 3.5, 4.6])\n",
    "\n",
    "print(\"array \\'a\\' = \" + str(a) + \"        array \\'b\\' = \" + str(b))\n",
    "print(\"\\nNOTICE DIFFERENCE BETWEEN TYPES BECAUSE OF ELEMENTS \\n\")\n",
    "print(\"the type of the array \\'a\\', based on type of array elements is: \" + str(a.dtype))\n",
    "print(\"the type of the array \\'b\\', based on type of array elements is:\" + str(b.dtype))\n",
    "\n",
    "# The number of sequences in the array initialization determine how many dimensions it will have\n",
    "\n",
    "c = array([[1, 2, 3, 4], [1.5, 6.2, 3]])\n",
    "\n",
    "print(\"\\narray \\'c\\' = \" + str(c) + \" is a 2-D array because it contains two sequences\")\n",
    "\n",
    "# The type of array can also be specified during creation with dtype option in the array initialization\n",
    "\n",
    "d = array([[1,2], [3.5, 4.2]], dtype = complex)\n",
    "\n",
    "print(\"\\narray \\'d\\' = \" + str(d) + \"\\nis a complex 2-D array. the type was defined in the creation code: (d = array([], dtype = complex))\")\n",
    "\n",
    "# CREATING ARRAY WITH PLACEHOLDER VALUES\n",
    "# If we know the size of the array but don't know what the elements are, we can use zeros((row, columns)), ones((row, columns))\n",
    "# empty((row, columns)) to create arrays with placeholder elements\n",
    "\n",
    "# Using 'arange' to return an array from a sequence of numbers. It works like an A.P. \n",
    "# arange(start_value, end_value, increment)\n",
    "\n",
    "e = arange(10, 15, 1)\n",
    "\n",
    "print(\"\\narray \\'e\\' = \" + str(e) + \" created using \\'arange\\'\")"
   ]
  },
  {
   "cell_type": "markdown",
   "metadata": {},
   "source": [
    "#### Basic Operations on Arrays"
   ]
  },
  {
   "cell_type": "code",
   "execution_count": 193,
   "metadata": {},
   "outputs": [
    {
     "name": "stdout",
     "output_type": "stream",
     "text": [
      "the new array c = a - b is: [20 29 38 47]\n",
      "\n",
      "the new array d = b**2 is: [0 1 4 9]\n",
      "\n",
      "OPERATORS LIKE += and *= TO MODIFY EXISITNG ARRAY\n",
      "\n",
      "e (before) [[1 1 1]\n",
      " [1 1 1]]\n",
      "\n",
      "e (after *=) [[3 3 3]\n",
      " [3 3 3]]\n",
      "\n",
      "f (before) [[ 0.52423069  0.50966387  0.7689914 ]\n",
      " [ 0.92289205  0.9187579   0.66045064]]\n",
      "\n",
      "f (after +=) [[ 3.52423069  3.50966387  3.7689914 ]\n",
      " [ 3.92289205  3.9187579   3.66045064]]\n"
     ]
    }
   ],
   "source": [
    "# Arithmetic operations work on arrays ELEMENTWISE\n",
    "\n",
    "a = array([20, 30, 40, 50])\n",
    "b = arange(4)  # this will give the array [0, 1, 2, 3]\n",
    "\n",
    "c = a - b  # index-wise operations on elements are done\n",
    "print(\"the new array c = a - b is: \" + str(c))\n",
    "\n",
    "d = b ** 2  # each element of array 'b' is raised to the power 2\n",
    "print(\"\\nthe new array d = b**2 is: \" + str(d))\n",
    "\n",
    "print(\"\\nOPERATORS LIKE += and *= TO MODIFY EXISITNG ARRAY\\n\")\n",
    "\n",
    "e = ones((2, 3), dtype = int)\n",
    "print(\"e (before) \" + str(e))\n",
    "e *= 3\n",
    "print(\"\\ne (after *=) \" + str(e) + \"\\n\")\n",
    "\n",
    "f = random.random((2, 3))   # random.random((n, m)) will always create a n x m array where each element lies b/w 0 to 1\n",
    "print(\"f (before) \" + str(f))\n",
    "f += e\n",
    "print(\"\\nf (after +=) \" + str(f))"
   ]
  },
  {
   "cell_type": "code",
   "execution_count": 194,
   "metadata": {},
   "outputs": [
    {
     "name": "stdout",
     "output_type": "stream",
     "text": [
      "UNARY OPERATIONS on elements of array like: SUM, MAX \n",
      "\n",
      "array 'a' is: [[ 0.97900827  0.30729789  0.70342391]\n",
      " [ 0.36425158  0.88346729  0.59623871]]\n",
      "\n",
      "sum of elements of the array is: 3.83368766086\n",
      "the largest element in the array is: 0.979008267764\n",
      "\n",
      "column-wise sum of elements of the array are: [ 1.34325985  1.19076519  1.29966262]\n",
      "row-wise largest element of the array are: [ 0.97900827  0.88346729]\n"
     ]
    }
   ],
   "source": [
    "print(\"UNARY OPERATIONS on elements of array like: SUM, MAX \\n\")\n",
    "\n",
    "a = random.random((2, 3))\n",
    "\n",
    "print(\"array \\'a\\' is: \" + str(a) + \"\\n\")\n",
    "\n",
    "print(\"sum of elements of the array is: \" + str(a.sum()))\n",
    "\n",
    "print (\"the largest element in the array is: \" +  str(a.max()))\n",
    "\n",
    "# By default the operation is done on each element of the array. To apply the operation along a specific 'axis' by specifying\n",
    "# it in the option of the operation\n",
    "# For a 2-D array, axis = 0 means columns, axis = 1 means rows\n",
    "\n",
    "print(\"\\ncolumn-wise sum of elements of the array are: \" + str(a.sum(axis = 0)))\n",
    "\n",
    "print(\"row-wise largest element of the array are: \" + str(a.max(axis = 1)))"
   ]
  },
  {
   "cell_type": "markdown",
   "metadata": {},
   "source": [
    "#### Universal Functions\n",
    " - 'ufunc' work on each element of the array and return an array as the output\n",
    " - sqrt, add, exp, mean, median, std, ceil, floor, corrcoef, cov, round, transpose, sort are few examples"
   ]
  },
  {
   "cell_type": "markdown",
   "metadata": {},
   "source": [
    "#### Indexing - Slicing - Iterating"
   ]
  },
  {
   "cell_type": "markdown",
   "metadata": {},
   "source": [
    " -  1-D Array"
   ]
  },
  {
   "cell_type": "code",
   "execution_count": 195,
   "metadata": {},
   "outputs": [
    {
     "name": "stdout",
     "output_type": "stream",
     "text": [
      "the array 'a' is: [  0   1   8  27  64 125 216 343 512 729]\n",
      "\n",
      "INDEXING\n",
      "2nd element of the array is: 8\n",
      "new elements of the array are: [  0 420   8  27  64 125 216 343 512 729]\n",
      "\n",
      "SLICING\n",
      "the slice of the array from index (2 to 4) is: [ 8 27 64]\n",
      "the new array with every 2nd element until index 5 replaced with -1000 is: [  0 420   0  27   0 125 216 343 512 729]\n",
      "\n",
      "REVERSING the order of elements of an array\n",
      "\n",
      "ITERATING\n",
      "I am at element: 0\n",
      "I am at element: 420\n",
      "I am at element: 0\n",
      "I am at element: 27\n",
      "I am at element: 0\n",
      "I am at element: 125\n",
      "I am at element: 216\n",
      "I am at element: 343\n",
      "I am at element: 512\n",
      "I am at element: 729\n"
     ]
    }
   ],
   "source": [
    "a = arange(10) ** 3\n",
    "print(\"the array \\'a\\' is: \" + str(a))\n",
    "# Python is a zero-based indexing language\n",
    "\n",
    "# Indexing\n",
    "print(\"\\nINDEXING\")\n",
    "\n",
    "print(\"2nd element of the array is: \" + str(a[2]))\n",
    "\n",
    "# Using index, for value replacement\n",
    "a[1] = 420\n",
    "print(\"new elements of the array are: \" + str(a))\n",
    "\n",
    "# Slicing\n",
    "# Also note that, index 5 is excluded from the slice\n",
    "print(\"\\nSLICING\")\n",
    "print(\"the slice of the array from index (2 to 4) is: \" + str(a[2:5]))\n",
    "\n",
    "# Using slice, to go from element 0 to 5 and replace every 2nd element until stop limit with 0\n",
    "a[ : 6: 2] = 0\n",
    "print(\"the new array with every 2nd element until index 5 replaced with -1000 is: \" + str(a))\n",
    "\n",
    "# Reversing an array\n",
    "print(\"\\nREVERSING the order of elements of an array\")\n",
    "a[ : : -1]\n",
    "\n",
    "# Iterating through an array\n",
    "print(\"\\nITERATING\")\n",
    "\n",
    "for i in a:\n",
    "    print(\"I am at element: \" + str(i))"
   ]
  },
  {
   "cell_type": "markdown",
   "metadata": {},
   "source": [
    " - Multidimensional array"
   ]
  },
  {
   "cell_type": "code",
   "execution_count": 196,
   "metadata": {},
   "outputs": [
    {
     "name": "stdout",
     "output_type": "stream",
     "text": [
      "Array 'b' is: \n"
     ]
    },
    {
     "data": {
      "text/plain": [
       "array([[ 0,  1,  2,  3],\n",
       "       [10, 11, 12, 13],\n",
       "       [20, 21, 22, 23],\n",
       "       [30, 31, 32, 33],\n",
       "       [40, 41, 42, 43]])"
      ]
     },
     "execution_count": 196,
     "metadata": {},
     "output_type": "execute_result"
    }
   ],
   "source": [
    "# Creating the multi-dimensional array\n",
    "def f(x, y):\n",
    "    return 10*x+y\n",
    "\n",
    "b = fromfunction(f, (5, 4), dtype = int) # fromfunction is used to create an array by executing the function over each coordinate\n",
    "\n",
    "print(\"Array \\'b\\' is: \")\n",
    "b"
   ]
  },
  {
   "cell_type": "code",
   "execution_count": 197,
   "metadata": {},
   "outputs": [
    {
     "name": "stdout",
     "output_type": "stream",
     "text": [
      "INDEXING\n",
      "element in 3rd row (row index 2) and 4th column (column index is 3) is: 23\n",
      "\n",
      "SLICING\n",
      "every element in 2nd column (column index is 1) is: [ 1 11 21 31 41]\n",
      "every element in 2nd row (row index is 1) is: [10 11 12 13]\n",
      "\n",
      "every element in 2nd and 3rd row is: [[10 11 12 13]\n",
      " [20 21 22 23]]\n",
      "\n",
      "all columns in 1st row of array are: [0 1 2 3]\n"
     ]
    }
   ],
   "source": [
    "# Indexing\n",
    "\n",
    "print(\"INDEXING\")\n",
    "print(\"element in 3rd row (row index 2) and 4th column (column index is 3) is: \" + str(b[2, 3]))\n",
    "\n",
    "# Slicing\n",
    "print(\"\\nSLICING\")\n",
    "print(\"every element in 2nd column (column index is 1) is: \" + str(b[ : , 1]))\n",
    "\n",
    "print(\"every element in 2nd row (row index is 1) is: \" + str(b[ 1 , : ]))\n",
    "\n",
    "print(\"\\nevery element in 2nd and 3rd row is: \" + str(b[1:3, :]))\n",
    "\n",
    "print(\"\\nall columns in 1st row of array are: \" + str(b[0, 0:5]))"
   ]
  },
  {
   "cell_type": "code",
   "execution_count": 198,
   "metadata": {},
   "outputs": [
    {
     "name": "stdout",
     "output_type": "stream",
     "text": [
      "ITERATING\n",
      "[0 2 4 6]\n",
      "[20 22 24 26]\n",
      "[40 42 44 46]\n",
      "[60 62 64 66]\n",
      "[80 82 84 86]\n"
     ]
    }
   ],
   "source": [
    "# Iterating\n",
    "print(\"ITERATING\")\n",
    "for row in b:\n",
    "    print row*2"
   ]
  },
  {
   "cell_type": "markdown",
   "metadata": {},
   "source": [
    "#### Shape Manipulation"
   ]
  },
  {
   "cell_type": "code",
   "execution_count": 202,
   "metadata": {},
   "outputs": [
    {
     "name": "stdout",
     "output_type": "stream",
     "text": [
      "[[ 0  1  2  3 10]\n",
      " [11 12 13 20 21]\n",
      " [22 23 30 31 32]\n",
      " [33 40 41 42 43]]\n",
      "the shape of array 'b' is: (4L, 5L)\n"
     ]
    },
    {
     "data": {
      "text/plain": [
       "array([ 0,  1,  2,  3, 10, 11, 12, 13, 20, 21, 22, 23, 30, 31, 32, 33, 40,\n",
       "       41, 42, 43])"
      ]
     },
     "execution_count": 202,
     "metadata": {},
     "output_type": "execute_result"
    }
   ],
   "source": [
    "print b\n",
    "\n",
    "print(\"the shape of array \\'b\\' is: \" + str(b.shape))\n",
    "\n",
    "# To flatten the array\n",
    "b.ravel()"
   ]
  },
  {
   "cell_type": "code",
   "execution_count": 213,
   "metadata": {
    "scrolled": true
   },
   "outputs": [
    {
     "name": "stdout",
     "output_type": "stream",
     "text": [
      "CHANGE ARRAY SHAPE\n",
      "[[ 0  1  2  3]\n",
      " [10 11 12 13]\n",
      " [20 21 22 23]\n",
      " [30 31 32 33]\n",
      " [40 41 42 43]]\n",
      "\n",
      "TRANSPOSE\n",
      "[[ 0 10 20 30 40]\n",
      " [ 1 11 21 31 41]\n",
      " [ 2 12 22 32 42]\n",
      " [ 3 13 23 33 43]]\n"
     ]
    }
   ],
   "source": [
    "# To change shape of array\n",
    "print(\"CHANGE ARRAY SHAPE\")\n",
    "b.shape = (5, 4)  # cannot change the number of elements that the array can have\n",
    "print b\n",
    "\n",
    "# To transpose the array\n",
    "# turns 1st column to 1st row, 2nd column to 2nd row and so on\n",
    "print(\"\\nTRANSPOSE\")\n",
    "print b.transpose()"
   ]
  },
  {
   "cell_type": "markdown",
   "metadata": {},
   "source": [
    " - Stacking Arrays (Vertical stack - adds rows, Horizontal stack - adds columns)"
   ]
  },
  {
   "cell_type": "code",
   "execution_count": 237,
   "metadata": {},
   "outputs": [
    {
     "name": "stdout",
     "output_type": "stream",
     "text": [
      "[[ 8.  2.]\n",
      " [ 3.  3.]]\n",
      "[[ 1.  0.]\n",
      " [ 1.  1.]]\n"
     ]
    }
   ],
   "source": [
    "a = floor(10*random.random((2, 2)))\n",
    "print a\n",
    "\n",
    "b = floor(10*random.random((2, 2)))\n",
    "print b"
   ]
  },
  {
   "cell_type": "code",
   "execution_count": 245,
   "metadata": {},
   "outputs": [
    {
     "name": "stdout",
     "output_type": "stream",
     "text": [
      "using vstack to add b as rows to a: \n",
      "[[ 8.  2.]\n",
      " [ 3.  3.]\n",
      " [ 1.  0.]\n",
      " [ 1.  1.]]\n",
      "\n",
      "using vstack to add b as columns to a: \n",
      "[[ 8.  2.  1.  0.]\n",
      " [ 3.  3.  1.  1.]]\n"
     ]
    }
   ],
   "source": [
    "print (\"using vstack to add b as rows to a: \")\n",
    "print vstack((a, b))\n",
    "\n",
    "print (\"\\nusing vstack to add b as columns to a: \")\n",
    "print hstack((a, b))"
   ]
  },
  {
   "cell_type": "code",
   "execution_count": 246,
   "metadata": {},
   "outputs": [
    {
     "data": {
      "text/plain": [
       "array([[ 8.,  2.,  1.,  0.],\n",
       "       [ 3.,  3.,  1.,  1.]])"
      ]
     },
     "execution_count": 246,
     "metadata": {},
     "output_type": "execute_result"
    }
   ],
   "source": [
    "column_stack((a, b))"
   ]
  },
  {
   "cell_type": "code",
   "execution_count": 247,
   "metadata": {},
   "outputs": [
    {
     "data": {
      "text/plain": [
       "array([[ 8.,  2.],\n",
       "       [ 3.,  3.],\n",
       "       [ 1.,  0.],\n",
       "       [ 1.,  1.]])"
      ]
     },
     "execution_count": 247,
     "metadata": {},
     "output_type": "execute_result"
    }
   ],
   "source": [
    "row_stack((a, b))"
   ]
  },
  {
   "cell_type": "markdown",
   "metadata": {},
   "source": [
    " - Splitting one array into several smaller ones"
   ]
  },
  {
   "cell_type": "code",
   "execution_count": 252,
   "metadata": {},
   "outputs": [
    {
     "name": "stdout",
     "output_type": "stream",
     "text": [
      "Array is:\n",
      "[[ 1.  1.  7.  3.  3.  0.  5.  8.  2.  6.  7.  4.]\n",
      " [ 1.  9.  7.  4.  6.  6.  7.  5.  9.  0.  5.  1.]]\n",
      "\n",
      "HSPLIT - splits the initial array by columns\n",
      "[array([[ 1.,  1.,  7.,  3.],\n",
      "       [ 1.,  9.,  7.,  4.]]), array([[ 3.,  0.,  5.,  8.],\n",
      "       [ 6.,  6.,  7.,  5.]]), array([[ 2.,  6.,  7.,  4.],\n",
      "       [ 9.,  0.,  5.,  1.]])]\n",
      "\n",
      "VSPLIT - splits the initial array\n",
      "[array([[ 1.,  1.,  7.,  3.,  3.,  0.,  5.,  8.,  2.,  6.,  7.,  4.]]), array([[ 1.,  9.,  7.,  4.,  6.,  6.,  7.,  5.,  9.,  0.,  5.,  1.]])]\n",
      "\n",
      "We can also specify the columns after which we want the array to be split\n",
      "[array([[ 1.,  1.,  7.],\n",
      "       [ 1.,  9.,  7.]]), array([[ 3.],\n",
      "       [ 4.]]), array([[ 3.,  0.,  5.,  8.,  2.,  6.,  7.,  4.],\n",
      "       [ 6.,  6.,  7.,  5.,  9.,  0.,  5.,  1.]])]\n"
     ]
    }
   ],
   "source": [
    "a = floor(10*random.random((2,12)))\n",
    "print(\"Array is:\\n\" + str(a))\n",
    "\n",
    "# all positions below are zero-index based\n",
    "print(\"\\nHSPLIT - splits the initial array by columns\")\n",
    "b = hsplit(a, 3) # hsplit works by splitting the array by columns\n",
    "print b\n",
    "\n",
    "print(\"\\nVSPLIT - splits the initial array\")\n",
    "c = vsplit(a, 2) # vsplit works by splitting the array by rows\n",
    "print c\n",
    "\n",
    "print(\"\\nWe can also specify the columns after which we want the array to be split\")\n",
    "d = hsplit(a, (3, 4))\n",
    "print d"
   ]
  },
  {
   "cell_type": "markdown",
   "metadata": {},
   "source": [
    "#### Copies and Views"
   ]
  },
  {
   "cell_type": "markdown",
   "metadata": {},
   "source": [
    " - Simple assignment statements DO NOT MAKE COPIES of arrays"
   ]
  },
  {
   "cell_type": "code",
   "execution_count": 263,
   "metadata": {},
   "outputs": [
    {
     "name": "stdout",
     "output_type": "stream",
     "text": [
      "a: [ 0  1  2  3  4  5  6  7  8  9 10 11]\n",
      "b: [ 0  1  2  3  4  5  6  7  8  9 10 11]\n",
      "\n",
      "Checking whether 'a' and 'b' are the same thing: \n",
      "True\n",
      "Any changes made to b will get refelected on a\n",
      "\n",
      "New shape of b: (3L, 4L)\n",
      "New shape of a: (3L, 4L)\n"
     ]
    }
   ],
   "source": [
    "a = arange(12)\n",
    "print(\"a: \" + str(a))\n",
    "\n",
    "b = a # no copy is being created. b and a are just different names for the same array object in memory\n",
    "print(\"b: \" + str(a))\n",
    "\n",
    "print(\"\\nChecking whether \\'a\\' and \\'b\\' are the same thing: \")\n",
    "print(b is a)\n",
    "\n",
    "print(\"Any changes made to b will get refelected on a\\n\")\n",
    "b.shape = (3, 4)\n",
    "print(\"New shape of b: \" + str(b.shape))\n",
    "print(\"New shape of a: \" + str(a.shape))"
   ]
  }
 ],
 "metadata": {
  "kernelspec": {
   "display_name": "Python 2",
   "language": "python",
   "name": "python2"
  },
  "language_info": {
   "codemirror_mode": {
    "name": "ipython",
    "version": 2
   },
   "file_extension": ".py",
   "mimetype": "text/x-python",
   "name": "python",
   "nbconvert_exporter": "python",
   "pygments_lexer": "ipython2",
   "version": "2.7.13"
  }
 },
 "nbformat": 4,
 "nbformat_minor": 2
}
